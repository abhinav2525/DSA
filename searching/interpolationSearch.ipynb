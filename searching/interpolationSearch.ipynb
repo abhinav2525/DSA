{
 "cells": [
  {
   "cell_type": "code",
   "execution_count": 2,
   "metadata": {},
   "outputs": [],
   "source": [
    "def interpolationSearch(arr, x):\n",
    "    low = 0\n",
    "    high = len(arr) - 1\n",
    "\n",
    "    while low <= high and x >= arr[low] and x <= arr[high]:\n",
    "\n",
    "        if low == high:\n",
    "            if arr[low] == x:\n",
    "                return low\n",
    "            return - 1\n",
    "        \n",
    "        pos = int(low + (float((high - low)/(arr[high]-arr[low])) * (x - arr[low])))\n",
    "\n",
    "        if arr[pos] == x :\n",
    "            return pos\n",
    "        elif arr[pos] > x :\n",
    "            high = pos - 1\n",
    "        else:\n",
    "            high = pos + 1\n",
    "\n",
    "    return -1\n"
   ]
  },
  {
   "cell_type": "code",
   "execution_count": 4,
   "metadata": {},
   "outputs": [
    {
     "name": "stdout",
     "output_type": "stream",
     "text": [
      "9\n"
     ]
    }
   ],
   "source": [
    "print(interpolationSearch([1,2,4,6,7,8,9,10,11,20,21],20))"
   ]
  }
 ],
 "metadata": {
  "kernelspec": {
   "display_name": "Python 3",
   "language": "python",
   "name": "python3"
  },
  "language_info": {
   "codemirror_mode": {
    "name": "ipython",
    "version": 3
   },
   "file_extension": ".py",
   "mimetype": "text/x-python",
   "name": "python",
   "nbconvert_exporter": "python",
   "pygments_lexer": "ipython3",
   "version": "3.9.6"
  }
 },
 "nbformat": 4,
 "nbformat_minor": 2
}
