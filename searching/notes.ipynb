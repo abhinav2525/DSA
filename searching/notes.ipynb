{
 "cells": [
  {
   "cell_type": "markdown",
   "metadata": {},
   "source": [
    "| **Search Type**     | **Best Use Scenario**                                   | **Best Case Time Complexity** | **Worst Case Time Complexity** |\n",
    "|---------------------|---------------------------------------------------------|-------------------------------|--------------------------------|\n",
    "| **Binary Search**   | Sorted array, random access                             | \\(O(1)\\)                      | \\(O(log n)\\)                  |\n",
    "| **Interpolation Search** | Sorted, uniformly distributed data                   | \\(O(1)\\)                      | \\(O(n)\\)                       |\n",
    "| **Exponential Search**  | Sorted data, size unknown, potential early target     | \\(O(1)\\)                      | \\(O(log n)\\)                  |\n"
   ]
  }
 ],
 "metadata": {
  "language_info": {
   "name": "python"
  }
 },
 "nbformat": 4,
 "nbformat_minor": 2
}
